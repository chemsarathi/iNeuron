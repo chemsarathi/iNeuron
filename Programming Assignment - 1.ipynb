{
 "cells": [
  {
   "cell_type": "markdown",
   "id": "100b1e7b",
   "metadata": {},
   "source": [
    "###### \n",
    "1. Write a Python program to print &quot;Hello Python&quot;?\n",
    "2. Write a Python program to do arithmetical operations addition and division.?\n",
    "3. Write a Python program to find the area of a triangle?\n",
    "4. Write a Python program to swap two variables?\n",
    "5. Write a Python program to generate a random number?"
   ]
  },
  {
   "cell_type": "markdown",
   "id": "a006e6b6",
   "metadata": {},
   "source": [
    "### 1. Write a Python program to print \"Hello Python\"?"
   ]
  },
  {
   "cell_type": "code",
   "execution_count": 2,
   "id": "9117910c",
   "metadata": {},
   "outputs": [
    {
     "name": "stdout",
     "output_type": "stream",
     "text": [
      "Hello Python\n"
     ]
    }
   ],
   "source": [
    "print('Hello Python')"
   ]
  },
  {
   "cell_type": "markdown",
   "id": "4750ecc1",
   "metadata": {},
   "source": [
    "### 2. Write a Python program to do arithmetical operations addition and division.?"
   ]
  },
  {
   "cell_type": "code",
   "execution_count": 16,
   "id": "b7274f23",
   "metadata": {},
   "outputs": [
    {
     "name": "stdout",
     "output_type": "stream",
     "text": [
      "Give the value of a: 45\n",
      "Give the value of b: 9\n"
     ]
    },
    {
     "data": {
      "text/plain": [
       "'Addition of two numbers 54.0 and subtraction is 36.0'"
      ]
     },
     "execution_count": 16,
     "metadata": {},
     "output_type": "execute_result"
    }
   ],
   "source": [
    "a = float(input('Give the value of a: '))\n",
    "b = float(input('Give the value of b: '))\n",
    "#Addition\n",
    "add = a + b \n",
    "sub = a - b \n",
    "#print('Addition of a and b is %0.2f' %add)\n",
    "f'Addition of two numbers {add} and subtraction is {sub}'\n",
    "#f'Subtraction of two numbers {sub}'"
   ]
  },
  {
   "cell_type": "markdown",
   "id": "4173c52e",
   "metadata": {},
   "source": [
    "### 3. Write a Python program to find the area of a triangle?"
   ]
  },
  {
   "cell_type": "code",
   "execution_count": 20,
   "id": "e109befe",
   "metadata": {},
   "outputs": [
    {
     "name": "stdout",
     "output_type": "stream",
     "text": [
      "Length of first side: 6\n",
      "Length of second side: 9\n",
      "Length of third side: 7\n"
     ]
    },
    {
     "data": {
      "text/plain": [
       "'Area of the triangle is 20.97617696340303'"
      ]
     },
     "execution_count": 20,
     "metadata": {},
     "output_type": "execute_result"
    }
   ],
   "source": [
    "a = float(input('Length of first side: '))\n",
    "b = float(input('Length of second side: '))\n",
    "c = float(input('Length of third side: '))\n",
    "\n",
    "#semi-perimeter\n",
    "s = (a+b+c)/2\n",
    "\n",
    "#Area of the triangle\n",
    "area = (s*(s-a)*(s-b)*(s-c)) ** 0.5  \n",
    "f'Area of the triangle is {area}'\n"
   ]
  },
  {
   "cell_type": "markdown",
   "id": "85504cfe",
   "metadata": {},
   "source": [
    "### 4. Write a Python program to swap two variables?\n"
   ]
  },
  {
   "cell_type": "code",
   "execution_count": 25,
   "id": "550bd96e",
   "metadata": {},
   "outputs": [
    {
     "name": "stdout",
     "output_type": "stream",
     "text": [
      "Give the value of x =15\n",
      "Give the value of y =58\n"
     ]
    },
    {
     "data": {
      "text/plain": [
       "'After swapping, Value of x is 58.0 and y is 15.0'"
      ]
     },
     "execution_count": 25,
     "metadata": {},
     "output_type": "execute_result"
    }
   ],
   "source": [
    "x = float(input('Give the value of x ='))\n",
    "y = float(input('Give the value of y ='))\n",
    "\n",
    "x,y = y,x\n",
    "f'After swapping, Value of x is {x} and y is {y}'\n"
   ]
  },
  {
   "cell_type": "markdown",
   "id": "50718d97",
   "metadata": {},
   "source": [
    "### 5. Write a Python program to generate a random number?"
   ]
  },
  {
   "cell_type": "code",
   "execution_count": 26,
   "id": "99a98ef1",
   "metadata": {},
   "outputs": [],
   "source": [
    "import random"
   ]
  },
  {
   "cell_type": "code",
   "execution_count": 28,
   "id": "eba73434",
   "metadata": {},
   "outputs": [
    {
     "data": {
      "text/plain": [
       "0.4260055237649172"
      ]
     },
     "execution_count": 28,
     "metadata": {},
     "output_type": "execute_result"
    }
   ],
   "source": [
    "n = random.random() #print any random number within 1\n",
    "n "
   ]
  },
  {
   "cell_type": "code",
   "execution_count": 29,
   "id": "aa3d56d8",
   "metadata": {},
   "outputs": [
    {
     "data": {
      "text/plain": [
       "27"
      ]
     },
     "execution_count": 29,
     "metadata": {},
     "output_type": "execute_result"
    }
   ],
   "source": [
    "#print random number within range\n",
    "random.randint(0,50)"
   ]
  }
 ],
 "metadata": {
  "kernelspec": {
   "display_name": "Python 3",
   "language": "python",
   "name": "python3"
  },
  "language_info": {
   "codemirror_mode": {
    "name": "ipython",
    "version": 3
   },
   "file_extension": ".py",
   "mimetype": "text/x-python",
   "name": "python",
   "nbconvert_exporter": "python",
   "pygments_lexer": "ipython3",
   "version": "3.7.6"
  }
 },
 "nbformat": 4,
 "nbformat_minor": 5
}
