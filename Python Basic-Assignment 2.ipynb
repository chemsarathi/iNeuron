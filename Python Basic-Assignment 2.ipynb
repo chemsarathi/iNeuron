{
 "cells": [
  {
   "cell_type": "markdown",
   "id": "59e4e3e7",
   "metadata": {},
   "source": [
    "### Python basics-Assignment 2\n",
    "\n",
    "### Submited by Parthasarathi"
   ]
  },
  {
   "cell_type": "markdown",
   "id": "acab9a48",
   "metadata": {},
   "source": [
    "### 1.What are the two values of the Boolean data type? How do you write them?"
   ]
  },
  {
   "cell_type": "markdown",
   "id": "f4f5096d",
   "metadata": {},
   "source": [
    "###### True and False are the Boolean data type. "
   ]
  },
  {
   "cell_type": "code",
   "execution_count": 1,
   "id": "654f7e3f",
   "metadata": {},
   "outputs": [
    {
     "data": {
      "text/plain": [
       "False"
      ]
     },
     "execution_count": 1,
     "metadata": {},
     "output_type": "execute_result"
    }
   ],
   "source": [
    "x = 5\n",
    "y = 10\n",
    "bool(x == y)"
   ]
  },
  {
   "cell_type": "code",
   "execution_count": 2,
   "id": "9497e302",
   "metadata": {},
   "outputs": [
    {
     "data": {
      "text/plain": [
       "True"
      ]
     },
     "execution_count": 2,
     "metadata": {},
     "output_type": "execute_result"
    }
   ],
   "source": [
    "a = 5\n",
    "b = 5\n",
    "bool(a == b)"
   ]
  },
  {
   "cell_type": "markdown",
   "id": "365df152",
   "metadata": {},
   "source": [
    "### 2. What are the three different types of Boolean operators?\n",
    "Boolean operators are AND, OR, and NOT."
   ]
  },
  {
   "cell_type": "markdown",
   "id": "7d0a3931",
   "metadata": {},
   "source": [
    "### 3. Make a list of each Boolean operator's truth tables (i.e. every possible combination of Boolean values for the operator and what it evaluate). "
   ]
  },
  {
   "cell_type": "markdown",
   "id": "648d5fed",
   "metadata": {},
   "source": [
    "######  Truth table for Boolean operator 'AND'\n",
    "\n",
    "False  'And' False ==\tFalse \\\n",
    "False 'And'\tTrue\t== False \\\n",
    "True\t'And' False ==\tFalse\\\n",
    "True\t'And' True ==\tTrue\n",
    "\n",
    "\n",
    "###### Truth table for Boolean operator 'OR'\n",
    "False\t'OR' False ==\tFalse \\\n",
    "False 'OR'\tTrue ==\tTrue \\\n",
    "True 'OR'\tFalse ==\tTrue \\\n",
    "True 'OR'\tTrue ==\tTrue \n",
    "\n",
    "###### Truth table for Boolean operator 'NOT'\n",
    "\n",
    "F 'NOT'\tT \\\n",
    "T 'NOT'\tF"
   ]
  },
  {
   "cell_type": "markdown",
   "id": "916aaced",
   "metadata": {},
   "source": [
    "### 4. What are the values of the following expressions? \n"
   ]
  },
  {
   "cell_type": "code",
   "execution_count": 5,
   "id": "4fd5cc0f",
   "metadata": {},
   "outputs": [
    {
     "data": {
      "text/plain": [
       "False"
      ]
     },
     "execution_count": 5,
     "metadata": {},
     "output_type": "execute_result"
    }
   ],
   "source": [
    "(5 > 4) and (3 == 5)"
   ]
  },
  {
   "cell_type": "code",
   "execution_count": 7,
   "id": "363d1f9c",
   "metadata": {},
   "outputs": [
    {
     "data": {
      "text/plain": [
       "False"
      ]
     },
     "execution_count": 7,
     "metadata": {},
     "output_type": "execute_result"
    }
   ],
   "source": [
    "not (5 > 4)\n"
   ]
  },
  {
   "cell_type": "code",
   "execution_count": 8,
   "id": "27f25d64",
   "metadata": {},
   "outputs": [
    {
     "data": {
      "text/plain": [
       "True"
      ]
     },
     "execution_count": 8,
     "metadata": {},
     "output_type": "execute_result"
    }
   ],
   "source": [
    "(5 > 4) or (3 == 5)\n",
    "\n"
   ]
  },
  {
   "cell_type": "code",
   "execution_count": 9,
   "id": "5eb21a7c",
   "metadata": {},
   "outputs": [
    {
     "data": {
      "text/plain": [
       "False"
      ]
     },
     "execution_count": 9,
     "metadata": {},
     "output_type": "execute_result"
    }
   ],
   "source": [
    "not ((5 > 4) or (3 == 5))\n"
   ]
  },
  {
   "cell_type": "code",
   "execution_count": 10,
   "id": "2f50d673",
   "metadata": {},
   "outputs": [
    {
     "data": {
      "text/plain": [
       "False"
      ]
     },
     "execution_count": 10,
     "metadata": {},
     "output_type": "execute_result"
    }
   ],
   "source": [
    "(True and True) and (True == False)\n"
   ]
  },
  {
   "cell_type": "code",
   "execution_count": 11,
   "id": "0b532e38",
   "metadata": {},
   "outputs": [
    {
     "data": {
      "text/plain": [
       "True"
      ]
     },
     "execution_count": 11,
     "metadata": {},
     "output_type": "execute_result"
    }
   ],
   "source": [
    "(not False) or (not True)"
   ]
  },
  {
   "cell_type": "markdown",
   "id": "e18275a6",
   "metadata": {},
   "source": [
    "### 5. What are the six comparison operators?\n",
    "###### Comparison operators helps to relate the variables / values like great than or less than. Following are the comparison operators: \n",
    "Less than (<) \\\n",
    "Greater than (>) \\\n",
    "Less than or equal to (<=) \\\n",
    "Greater than or equal to (>=) \\\n",
    "Equal to (==) \\\n",
    "Not equal to (!=)"
   ]
  },
  {
   "cell_type": "markdown",
   "id": "29fff0f8",
   "metadata": {},
   "source": [
    "### 6. How do you tell the difference between the equal to and assignment operators?Describe a condition and when you would use one.\n"
   ]
  },
  {
   "cell_type": "code",
   "execution_count": 15,
   "id": "46ddef04",
   "metadata": {},
   "outputs": [
    {
     "data": {
      "text/plain": [
       "False"
      ]
     },
     "execution_count": 15,
     "metadata": {},
     "output_type": "execute_result"
    }
   ],
   "source": [
    "# Equals to operator check whether the operand are equal or not. It is used to get the Boolean (True or False) data type\n",
    "5 == 10"
   ]
  },
  {
   "cell_type": "code",
   "execution_count": 26,
   "id": "78340859",
   "metadata": {},
   "outputs": [
    {
     "name": "stdout",
     "output_type": "stream",
     "text": [
      "The value a is 10\n"
     ]
    }
   ],
   "source": [
    "# Assinment operator will assign the value to a variable. Like, assigning the value of 'a' is 10\n",
    "a = 10\n",
    "print('The value a is {}' .format(a))"
   ]
  },
  {
   "cell_type": "markdown",
   "id": "6f85ac50",
   "metadata": {},
   "source": [
    "### 7. Identify the three blocks in this code:"
   ]
  },
  {
   "cell_type": "code",
   "execution_count": 54,
   "id": "a8bab798",
   "metadata": {
    "scrolled": true
   },
   "outputs": [
    {
     "name": "stdout",
     "output_type": "stream",
     "text": [
      "ham\n",
      "spam\n",
      "spam\n"
     ]
    }
   ],
   "source": [
    "spam = 0\n",
    "if spam == 10:\n",
    "    print('eggs')\n",
    "if spam > 5:\n",
    "    print('bacon')\n",
    "else:\n",
    "    print('ham')\n",
    "    print('spam')\n",
    "    print('spam')\n"
   ]
  },
  {
   "cell_type": "markdown",
   "id": "8ff49ea9",
   "metadata": {},
   "source": [
    "### 8. Write code that prints Hello if 1 is stored in spam, prints Howdy if 2 is stored in spam, and prints Greetings! if anything else is stored in spam."
   ]
  },
  {
   "cell_type": "code",
   "execution_count": 56,
   "id": "6e42975c",
   "metadata": {},
   "outputs": [
    {
     "name": "stdout",
     "output_type": "stream",
     "text": [
      "Greetings!\n"
     ]
    }
   ],
   "source": [
    "spam = 21\n",
    "if spam == 1:\n",
    "    print('Hello')\n",
    "elif spam == 2:\n",
    "    print('Howdy')\n",
    "else:\n",
    "    print('Greetings!')\n"
   ]
  },
  {
   "cell_type": "markdown",
   "id": "102c68d0",
   "metadata": {},
   "source": [
    "### I wonder why the following code is not working:"
   ]
  },
  {
   "cell_type": "code",
   "execution_count": 46,
   "id": "8482e7da",
   "metadata": {},
   "outputs": [
    {
     "name": "stdout",
     "output_type": "stream",
     "text": [
      "Give a value to Spam: 5\n",
      "Greetings!\n"
     ]
    }
   ],
   "source": [
    "spam = input('Give a value to Spam: ')\n",
    "if spam == 1:\n",
    "    print('Hello')\n",
    "elif spam == 2:\n",
    "    print('Howdy')\n",
    "else:\n",
    "    print('Greetings!')"
   ]
  },
  {
   "cell_type": "markdown",
   "id": "717d3716",
   "metadata": {},
   "source": [
    "### 9.If your programme is stuck in an endless loop, what keys you’ll press?\n",
    "Go to 'Kernel' tab and press 'Interrupt'"
   ]
  },
  {
   "cell_type": "markdown",
   "id": "f9a43a33",
   "metadata": {},
   "source": [
    "### 10. How can you tell the difference between break and continue?\n",
    "\n",
    "Both are used inside a for loop. Break statement terminates the loop and the program flows immediately after the body of the loop. Continue statement is used to skip the rest of the code inside a loop and continue. "
   ]
  },
  {
   "cell_type": "markdown",
   "id": "86008d34",
   "metadata": {},
   "source": [
    "### 11. In a for loop, what is the difference between range(10), range(0, 10), and range(0, 10, 1)?\n",
    "range(10) -> Given only stop in range object. It will generate number 0 to 10 [exclude the last number 10]\\\n",
    "range(0,10) - > Sart and stop. We are asking to generate the numbers between 0 and 10 [excluding last number 10]\\\n",
    "range(0,10,1) -> Start, stop and step. We are asking to generate the numbers between 0 and 10 with a step of 1.\n"
   ]
  },
  {
   "cell_type": "code",
   "execution_count": 13,
   "id": "be997e48",
   "metadata": {},
   "outputs": [
    {
     "name": "stdout",
     "output_type": "stream",
     "text": [
      "0\n",
      "1\n",
      "2\n",
      "3\n",
      "4\n",
      "5\n",
      "6\n",
      "7\n",
      "8\n",
      "9\n"
     ]
    }
   ],
   "source": [
    "for i in range(10): \n",
    "    print(i)"
   ]
  },
  {
   "cell_type": "code",
   "execution_count": 17,
   "id": "60190599",
   "metadata": {},
   "outputs": [
    {
     "name": "stdout",
     "output_type": "stream",
     "text": [
      "0\n",
      "1\n",
      "2\n",
      "3\n",
      "4\n",
      "5\n",
      "6\n",
      "7\n",
      "8\n",
      "9\n"
     ]
    }
   ],
   "source": [
    "for i in range(0,10):\n",
    "    print(i)"
   ]
  },
  {
   "cell_type": "code",
   "execution_count": 18,
   "id": "bfed3c34",
   "metadata": {},
   "outputs": [
    {
     "name": "stdout",
     "output_type": "stream",
     "text": [
      "0\n",
      "1\n",
      "2\n",
      "3\n",
      "4\n",
      "5\n",
      "6\n",
      "7\n",
      "8\n",
      "9\n"
     ]
    }
   ],
   "source": [
    "for i in range(0,10,1):\n",
    "    print(i)"
   ]
  },
  {
   "cell_type": "markdown",
   "id": "82ddf435",
   "metadata": {},
   "source": [
    "### 12. Write a short program that prints the numbers 1 to 10 using a for loop. Then write an equivalent program that prints the numbers 1 to 10 using a while loop."
   ]
  },
  {
   "cell_type": "code",
   "execution_count": 19,
   "id": "e872c923",
   "metadata": {},
   "outputs": [
    {
     "name": "stdout",
     "output_type": "stream",
     "text": [
      "1\n",
      "2\n",
      "3\n",
      "4\n",
      "5\n",
      "6\n",
      "7\n",
      "8\n",
      "9\n"
     ]
    }
   ],
   "source": [
    "##For loop:\n",
    "\n",
    "for i in range(1,10):\n",
    "    print(i)"
   ]
  },
  {
   "cell_type": "code",
   "execution_count": 42,
   "id": "eecd6a09",
   "metadata": {
    "scrolled": false
   },
   "outputs": [
    {
     "name": "stdout",
     "output_type": "stream",
     "text": [
      "1\n",
      "2\n",
      "3\n",
      "4\n",
      "5\n",
      "6\n",
      "7\n",
      "8\n",
      "9\n"
     ]
    }
   ],
   "source": [
    "## While loop:\n",
    "i = 1\n",
    "while i in range(10):\n",
    "    print(i)\n",
    "    i = i+1 \n",
    "    \n",
    "    \n"
   ]
  },
  {
   "cell_type": "markdown",
   "id": "433937b2",
   "metadata": {},
   "source": [
    "### 13. If you had a function named bacon() inside a module named spam, how would you call it after importing spam?\n",
    "\n",
    "import spam\\\n",
    "spam.bacon()"
   ]
  }
 ],
 "metadata": {
  "kernelspec": {
   "display_name": "Python 3",
   "language": "python",
   "name": "python3"
  },
  "language_info": {
   "codemirror_mode": {
    "name": "ipython",
    "version": 3
   },
   "file_extension": ".py",
   "mimetype": "text/x-python",
   "name": "python",
   "nbconvert_exporter": "python",
   "pygments_lexer": "ipython3",
   "version": "3.7.6"
  }
 },
 "nbformat": 4,
 "nbformat_minor": 5
}
