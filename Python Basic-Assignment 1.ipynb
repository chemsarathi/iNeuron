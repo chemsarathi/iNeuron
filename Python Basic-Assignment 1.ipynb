{
 "cells": [
  {
   "cell_type": "markdown",
   "id": "597f6422",
   "metadata": {},
   "source": [
    "## Python basics-Assignment 1 \n",
    "### Submited by Parthasarathi"
   ]
  },
  {
   "cell_type": "markdown",
   "id": "8cf9e2c1",
   "metadata": {},
   "source": [
    "### 1. What are the differences between operators and values in the following?\n",
    "\n",
    "\n"
   ]
  },
  {
   "cell_type": "markdown",
   "id": "b8155eca",
   "metadata": {},
   "source": [
    "#### Operators are mathematical symbols, used to perform some calculation. Values are the result of the calculation\n",
    "\n",
    "'*' is a mathematical operator, used for multiplication \\\n",
    "'hello' -> is a string value\\\n",
    "' - ' is a mathematical operator, used to subtract the integers\\\n",
    "' / ' -> division operator\\\n",
    "' + ' -> addition operator\\\n",
    "6 is a numerical value"
   ]
  },
  {
   "cell_type": "markdown",
   "id": "26c160d0",
   "metadata": {},
   "source": [
    "### 2. What is the difference between string and variable?\n"
   ]
  },
  {
   "cell_type": "markdown",
   "id": "73814b8e",
   "metadata": {},
   "source": [
    "#### Strings are alphabets/words mentioned by single or double quotation mark. A variable should be assigned some reference. \n",
    "\n",
    "Spam -> can be assigned as a variable by Spam = 30\\\n",
    "'Spam' -> this is string\n"
   ]
  },
  {
   "cell_type": "markdown",
   "id": "577030e1",
   "metadata": {},
   "source": [
    "### 3. Describe three different data forms."
   ]
  },
  {
   "cell_type": "markdown",
   "id": "fa667996",
   "metadata": {},
   "source": [
    "#### Three forms of data:\n",
    "i.\tQualitative and quantitative data\\\n",
    "ii.\tContinuous and discrete data\\\n",
    "iii.\tPrimary and secondary data\n"
   ]
  },
  {
   "cell_type": "markdown",
   "id": "240d8735",
   "metadata": {},
   "source": [
    "### 4. What makes up an expression? What are the functions of all expressions?\n"
   ]
  },
  {
   "cell_type": "markdown",
   "id": "c9ff6783",
   "metadata": {},
   "source": [
    "Expression contains a sequece of mathematical operators and operands. \n",
    "\n",
    "These expression helps to solve the mathematical equations\n"
   ]
  },
  {
   "cell_type": "markdown",
   "id": "2ab3a3ce",
   "metadata": {},
   "source": [
    "### 5. In this chapter, assignment statements such as spam = 10 were added. What's the difference between a declaration and an expression?"
   ]
  },
  {
   "cell_type": "markdown",
   "id": "32d3fd52",
   "metadata": {},
   "source": [
    "spam = 10, we are declaring the value of spam as 10. In expression we bring some mathematical operators to work."
   ]
  },
  {
   "cell_type": "markdown",
   "id": "8296af30",
   "metadata": {},
   "source": [
    "### 6. After running the following code, what does the variable bacon contain?\n",
    "bacon = 22 \\\n",
    "bacon + 1\n"
   ]
  },
  {
   "cell_type": "code",
   "execution_count": 5,
   "id": "40ff0480",
   "metadata": {},
   "outputs": [
    {
     "data": {
      "text/plain": [
       "22"
      ]
     },
     "execution_count": 5,
     "metadata": {},
     "output_type": "execute_result"
    }
   ],
   "source": [
    "bacon = 22 #we assigned (declared) the value as 22\n",
    "bacon"
   ]
  },
  {
   "cell_type": "code",
   "execution_count": 6,
   "id": "27bcc2c9",
   "metadata": {},
   "outputs": [
    {
     "data": {
      "text/plain": [
       "23"
      ]
     },
     "execution_count": 6,
     "metadata": {},
     "output_type": "execute_result"
    }
   ],
   "source": [
    "bacon+1 #made an expression"
   ]
  },
  {
   "cell_type": "markdown",
   "id": "1e98e04f",
   "metadata": {},
   "source": [
    "### 7. What should the values of the following two terms be?\n",
    "'spam' + 'spamspam' -> This will append\\\n",
    "'spam' * 3   -> It will give three times\n"
   ]
  },
  {
   "cell_type": "code",
   "execution_count": 8,
   "id": "f1f204e7",
   "metadata": {},
   "outputs": [
    {
     "data": {
      "text/plain": [
       "'spamspam'"
      ]
     },
     "execution_count": 8,
     "metadata": {},
     "output_type": "execute_result"
    }
   ],
   "source": [
    "'spam' + 'spam'"
   ]
  },
  {
   "cell_type": "code",
   "execution_count": 10,
   "id": "4423bbb2",
   "metadata": {},
   "outputs": [
    {
     "data": {
      "text/plain": [
       "'spamspamspam'"
      ]
     },
     "execution_count": 10,
     "metadata": {},
     "output_type": "execute_result"
    }
   ],
   "source": [
    "'spam'*3"
   ]
  },
  {
   "cell_type": "markdown",
   "id": "8f53dbc1",
   "metadata": {},
   "source": [
    "### 8. Why is it that eggs is a true variable name but 100 is not?\n",
    "Because eggs is a categorical and \"100\" is a numeric. \n",
    "Only categorical can be a variable"
   ]
  },
  {
   "cell_type": "code",
   "execution_count": 12,
   "id": "91af5765",
   "metadata": {},
   "outputs": [],
   "source": [
    "eggs = 100"
   ]
  },
  {
   "cell_type": "markdown",
   "id": "1d412b63",
   "metadata": {},
   "source": [
    "### 9. Which of the following three functions may be used to convert a value to an integer, a floating-point number, or a string?\n"
   ]
  },
  {
   "cell_type": "markdown",
   "id": "af7e4af5",
   "metadata": {},
   "source": [
    "str function can convert a value to string\\\n",
    "float function can convert a integer to floating-point number\\\n",
    "int function can convert a floating point into integer"
   ]
  },
  {
   "cell_type": "markdown",
   "id": "e33cbff3",
   "metadata": {},
   "source": [
    "### 10. What is the error caused by this expression? What would you do about it?\n",
    "'I have eaten ' + 99 + ' burritos.'\\\n",
    "Because Concatinate occurs only between strings. We need to convert the integer into string and concatinate"
   ]
  },
  {
   "cell_type": "code",
   "execution_count": 21,
   "id": "43b4f539",
   "metadata": {},
   "outputs": [
    {
     "data": {
      "text/plain": [
       "'I have eaten 99 burritos.'"
      ]
     },
     "execution_count": 21,
     "metadata": {},
     "output_type": "execute_result"
    }
   ],
   "source": [
    "a = str(99)\n",
    "'I have eaten ' + a + ' burritos.'\n"
   ]
  }
 ],
 "metadata": {
  "kernelspec": {
   "display_name": "Python 3",
   "language": "python",
   "name": "python3"
  },
  "language_info": {
   "codemirror_mode": {
    "name": "ipython",
    "version": 3
   },
   "file_extension": ".py",
   "mimetype": "text/x-python",
   "name": "python",
   "nbconvert_exporter": "python",
   "pygments_lexer": "ipython3",
   "version": "3.7.6"
  }
 },
 "nbformat": 4,
 "nbformat_minor": 5
}
